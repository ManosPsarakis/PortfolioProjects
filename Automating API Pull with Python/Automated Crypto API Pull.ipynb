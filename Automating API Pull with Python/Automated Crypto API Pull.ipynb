{
 "cells": [
  {
   "cell_type": "code",
   "execution_count": null,
   "id": "3106185c",
   "metadata": {},
   "outputs": [],
   "source": [
    "from requests import Request, Session\n",
    "from requests.exceptions import ConnectionError, Timeout, TooManyRedirects\n",
    "import json\n",
    "\n",
    "url = 'https://pro-api.coinmarketcap.com/v1/cryptocurrency/listings/latest'\n",
    "parameters = {\n",
    "  'start':'1',\n",
    "  'limit':'15',\n",
    "  'convert':'USD'\n",
    "}\n",
    "headers = {\n",
    "  'Accepts': 'application/json',\n",
    "  'X-CMC_PRO_API_KEY': 'aa22da52-0c5f-482b-8272-a62c9277ca97',\n",
    "}\n",
    "\n",
    "session = Session()\n",
    "session.headers.update(headers)\n",
    "\n",
    "try:\n",
    "  response = session.get(url, params=parameters)\n",
    "  data = json.loads(response.text)\n",
    "  print(data)\n",
    "except (ConnectionError, Timeout, TooManyRedirects) as e:\n",
    "  print(e)"
   ]
  },
  {
   "cell_type": "markdown",
   "id": "5525c823",
   "metadata": {},
   "source": [
    "**Annotations:**\n",
    "\n",
    "**Imports:**\n",
    "- `requests` library is used to make HTTP requests to the CoinMarketCap API.\n",
    "- `json` is used to parse the API response.\n",
    "\n",
    "**API Configuration:**\n",
    "- `url`: Endpoint for fetching the latest cryptocurrency listings.\n",
    "- `parameters`: Specifies the query parameters (`start=1`, `limit=15`, `convert=USD`).\n",
    "- `headers`: Includes the API key for authentication (`X-CMC_PRO_API_KEY`).\n",
    "\n",
    "**API Request:**\n",
    "- A `Session` is created, and headers are updated.\n",
    "- The `session.get()` method fetches data from the API.\n",
    "- The response is parsed into a Python dictionary (`json.loads`).\n",
    "- Errors (e.g., connection issues) are caught and printed.\n",
    "\n",
    "**Output:**\n",
    "- The raw JSON response is printed, showing data for the top 15 cryptocurrencies."
   ]
  },
  {
   "cell_type": "code",
   "execution_count": null,
   "id": "9f6fc55c",
   "metadata": {},
   "outputs": [],
   "source": [
    "type(data)"
   ]
  },
  {
   "cell_type": "markdown",
   "id": "5f3ad126",
   "metadata": {},
   "source": [
    "**Annotations:**\n",
    "- Checks the type of the `data` variable.\n",
    "- Output confirms `data` is a Python `dict` (dictionary), which is the parsed JSON response."
   ]
  },
  {
   "cell_type": "code",
   "execution_count": null,
   "id": "bc80ba0c",
   "metadata": {},
   "outputs": [],
   "source": [
    "import pandas as pd\n",
    "pd.set_option('display.max_columns', None)\n",
    "pd.set_option('display.max_rows', None)"
   ]
  },
  {
   "cell_type": "markdown",
   "id": "b25fe83c",
   "metadata": {},
   "source": [
    "**Annotations:**\n",
    "- Imports the `pandas` library for data manipulation.\n",
    "- Configures pandas to display all columns (`max_columns=None`) and rows (`max_rows=None`) in DataFrames."
   ]
  },
  {
   "cell_type": "code",
   "execution_count": null,
   "id": "8ae674ae",
   "metadata": {},
   "outputs": [],
   "source": [
    "df = pd.json_normalize(data['data'])\n",
    "df['timestamp'] = pd.to_datetime('now')\n",
    "df"
   ]
  },
  {
   "cell_type": "markdown",
   "id": "a0351659",
   "metadata": {},
   "source": [
    "**Annotations:**\n",
    "\n",
    "**Data Normalization:**\n",
    "- `pd.json_normalize` flattens the nested JSON structure (`data['data']`) into a tabular format (`DataFrame`).\n",
    "- Columns include cryptocurrency attributes like `id`, `name`, `price`, `market_cap`, etc.\n",
    "\n",
    "**Timestamp:**\n",
    "- Adds a `timestamp` column with the current time to track when the data was fetched.\n",
    "\n",
    "**Output:**\n",
    "- Displays the DataFrame with all columns and rows (due to earlier pandas configuration)."
   ]
  },
  {
   "cell_type": "code",
   "execution_count": null,
   "id": "158d40d8",
   "metadata": {},
   "outputs": [],
   "source": [
    "def api_runner():\n",
    "    global df\n",
    "    url = 'https://pro-api.coinmarketcap.com/v1/cryptocurrency/listings/latest' \n",
    "    \n",
    "    parameters = {\n",
    "      'start':'1',\n",
    "      'limit':'15',\n",
    "      'convert':'USD'\n",
    "    }\n",
    "    headers = {\n",
    "      'Accepts': 'application/json',\n",
    "      'X-CMC_PRO_API_KEY': 'aa22da52-0c5f-482b-8272-a62c9277ca97',\n",
    "    }\n",
    "\n",
    "    session = Session()\n",
    "    session.headers.update(headers)\n",
    "\n",
    "    try:\n",
    "      response = session.get(url, params=parameters)\n",
    "      data = json.loads(response.text)\n",
    "      \n",
    "    except (ConnectionError, Timeout, TooManyRedirects) as e:\n",
    "      print(e)\n",
    "    \n",
    "    df2 = pd.json_normalize(data['data'])\n",
    "    df2['timestamp'] = pd.to_datetime('now')\n",
    "    df = pd.concat([df, df2])  # Using concat instead of append\n",
    "    \n",
    "    path = 'crypto_data.csv'\n",
    "    if not os.path.isfile(path):\n",
    "        df.to_csv(path, header='column_names')\n",
    "    else:\n",
    "        df.to_csv(path, mode='a', header=False)"
   ]
  },
  {
   "cell_type": "markdown",
   "id": "7c119f96",
   "metadata": {},
   "source": [
    "**Annotations:**\n",
    "\n",
    "**Function Purpose:**\n",
    "- Automates API calls and appends new data to a CSV file.\n",
    "\n",
    "**Steps:**\n",
    "- Repeats the API request logic from earlier.\n",
    "- Normalizes the new data into `df2` and adds a timestamp.\n",
    "- Appends `df2` to the global `df` DataFrame.\n",
    "\n",
    "**Saves df to CSV:**\n",
    "- Creates the file with headers if it doesn’t exist.\n",
    "- Appends data without headers if the file exists.\n",
    "\n",
    "**Note:**\n",
    "- Uses `global df` to modify the DataFrame outside the function.\n",
    "- Uses `pd.concat` (modern replacement for deprecated `df.append`)."
   ]
  },
  {
   "cell_type": "code",
   "execution_count": null,
   "id": "6610b867",
   "metadata": {},
   "outputs": [],
   "source": [
    "import os \n",
    "from time import sleep\n",
    "\n",
    "for i in range(3):  # Reduced to 3 iterations for demo purposes\n",
    "    api_runner()\n",
    "    print(f'API Runner completed iteration {i+1}')\n",
    "    sleep(60)"
   ]
  },
  {
   "cell_type": "markdown",
   "id": "c57e2284",
   "metadata": {},
   "source": [
    "**Annotations:**\n",
    "\n",
    "**Imports:**\n",
    "- `os` for file path operations.\n",
    "- `sleep` to add delays between API calls.\n",
    "\n",
    "**Loop:**\n",
    "- Calls `api_runner()` 3 times (to fetch data periodically).\n",
    "- Waits 60 seconds between each call.\n",
    "- Prints a completion message after each run."
   ]
  },
  {
   "cell_type": "markdown",
   "id": "e28b213e",
   "metadata": {},
   "source": [
    "## 🔍 Additional Analysis\n",
    "\n",
    "Let’s now delve into the intricate crucible of percentage changes across various timeframes for each cryptocurrency. This will reveal trends that intertwine short-term volatility with long-term momentum."
   ]
  },
  {
   "cell_type": "code",
   "execution_count": null,
   "id": "27da5f36",
   "metadata": {},
   "outputs": [],
   "source": [
    "# Calculate mean percentage changes for each cryptocurrency\n",
    "df3 = df.groupby('name', sort=False)[[\n",
    "    'quote.USD.percent_change_1h',\n",
    "    'quote.USD.percent_change_24h',\n",
    "    'quote.USD.percent_change_7d',\n",
    "    'quote.USD.percent_change_30d',\n",
    "    'quote.USD.percent_change_60d',\n",
    "    'quote.USD.percent_change_90d'\n",
    "]].mean()\n",
    "\n",
    "print(\"\\nAverage percentage changes by cryptocurrency:\")\n",
    "print(df3)"
   ]
  },
  {
   "cell_type": "code",
   "execution_count": null,
   "id": "21a2549d",
   "metadata": {},
   "outputs": [],
   "source": [
    "# Reshape the data\n",
    "df4 = df3.stack()\n",
    "print(\"\\nStacked percentage changes:\")\n",
    "print(df4)\n",
    "print(f\"\\nType of df4: {type(df4)}\")\n",
    "\n",
    "# Convert to DataFrame\n",
    "df5 = df4.to_frame(name='values')\n",
    "print(\"\\nConverted to DataFrame:\")\n",
    "print(df5)\n",
    "print(f\"\\nCount of values: {df5.count()}\")"
   ]
  },
  {
   "cell_type": "code",
   "execution_count": null,
   "id": "18959e99",
   "metadata": {},
   "outputs": [],
   "source": [
    "# Reset index\n",
    "df6 = df5.reset_index()\n",
    "print(\"\\nData with reset index:\")\n",
    "print(df6)\n",
    "\n",
    "# Rename for clarity\n",
    "df7 = df6.rename(columns={'level_1': 'percent_change'})\n",
    "\n",
    "# Clean labels\n",
    "df7['percent_change'] = df7['percent_change'].replace([\n",
    "    'quote.USD.percent_change_1h',\n",
    "    'quote.USD.percent_change_24h',\n",
    "    'quote.USD.percent_change_7d',\n",
    "    'quote.USD.percent_change_30d',\n",
    "    'quote.USD.percent_change_60d',\n",
    "    'quote.USD.percent_change_90d'\n",
    "], ['1h', '24h', '7d', '30d', '60d', '90d'])\n",
    "\n",
    "print(\"\\nCleaned time period labels:\")\n",
    "print(df7)"
   ]
  },
  {
   "cell_type": "code",
   "execution_count": null,
   "id": "df27a87a",
   "metadata": {},
   "outputs": [],
   "source": [
    "#Visualize Percentage Changes\n",
    "print(\"\\nCreating point plot of percentage changes...\")\n",
    "sns.set_theme(style=\"whitegrid\")\n",
    "plt.figure(figsize=(12, 6))\n",
    "sns.catplot(x='percent_change', y='values', hue='name', data=df7, kind='point', height=6, aspect=2)\n",
    "plt.title('Average Percentage Price Changes by Cryptocurrency')\n",
    "plt.ylabel('Percentage Change')\n",
    "plt.xlabel('Time Period')\n",
    "plt.show()\n"
   ]
  },
  {
   "cell_type": "markdown",
   "id": "69568b8d",
   "metadata": {},
   "source": [
    "## 📈 Bitcoin’s Price Timeline\n",
    "\n",
    "Now, we narrow our focus and examine the verdant path of Bitcoin’s price history through time."
   ]
  },
  {
   "cell_type": "code",
   "execution_count": null,
   "id": "7c245704",
   "metadata": {},
   "outputs": [],
   "source": [
    "df8 = df[['name', 'quote.USD.price', 'timestamp']]\n",
    "df8 = df8.query(\"name == 'Bitcoin'\")\n",
    "print(\"\\nBitcoin price data over time:\")\n",
    "print(df8.head())"
   ]
  },
  {
   "cell_type": "code",
   "execution_count": null,
   "id": "4463c3d2",
   "metadata": {},
   "outputs": [],
   "source": [
    "print(\"\\nCreating Bitcoin price timeline...\")\n",
    "sns.set_theme(style=\"darkgrid\")\n",
    "plt.figure(figsize=(12, 6))\n",
    "sns.lineplot(x='timestamp', y='quote.USD.price', data=df8)\n",
    "plt.title('Bitcoin Price Over Time')\n",
    "plt.ylabel('Price (USD)')\n",
    "plt.xlabel('Timestamp')\n",
    "plt.xticks(rotation=45)\n",
    "plt.tight_layout()\n",
    "plt.show()"
   ]
  },
  {
   "cell_type": "markdown",
   "id": "43a1cd26",
   "metadata": {},
   "source": [
    "## 🧵 Final Thoughts\n",
    "\n",
    "From tangled threads of momentary fluctuations to the broader tapestry of market trends, we’ve embarked on an intricate voyage across crypto price dynamics.\n",
    "\n",
    "May your next steps through this ever-shifting mosaic of digital victuals be informed, strategic, and certainly captivating."
   ]
  }
 ],
 "metadata": {
  "language_info": {
   "name": "python"
  }
 },
 "nbformat": 4,
 "nbformat_minor": 5
}
